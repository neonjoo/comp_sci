{
 "cells": [
  {
   "cell_type": "markdown",
   "metadata": {},
   "source": [
    "# Homework 2"
   ]
  },
  {
   "cell_type": "markdown",
   "metadata": {},
   "source": [
    "## Problem 1"
   ]
  },
  {
   "cell_type": "markdown",
   "metadata": {},
   "source": [
    "### 1 "
   ]
  },
  {
   "cell_type": "markdown",
   "metadata": {},
   "source": [
    "#### The probability of hitting the circle is given by:\n",
    "\n",
    "$$\\begin{equation} P_{in} = \\frac{S_{circle}}{S_{square}} = \\frac{\\pi r^2}{4r^2} = \\frac{\\pi}{4}\n",
    "\\end{equation}$$"
   ]
  },
  {
   "cell_type": "markdown",
   "metadata": {},
   "source": [
    "Expected value of S:\n",
    "$$ m = 0 \\cdot (1-\\frac{\\pi}{4}) + 4 \\cdot \\frac{\\pi}{4} = \\pi $$\n",
    "$$ \\Delta = \\pi(4-\\pi) $$"
   ]
  },
  {
   "cell_type": "code",
   "execution_count": 12,
   "metadata": {
    "scrolled": false
   },
   "outputs": [
    {
     "name": "stdout",
     "output_type": "stream",
     "text": [
      "m = 3.141592653589793\n",
      "D = 2.6967662132698145\n"
     ]
    }
   ],
   "source": [
    "import numpy as np\n",
    "import matplotlib.pyplot as plt\n",
    "\n",
    "pi = np.pi\n",
    "\n",
    "m = pi\n",
    "D = pi * (4 - pi)\n",
    "\n",
    "print(\"m =\", m)\n",
    "print(\"D =\", D)"
   ]
  },
  {
   "cell_type": "markdown",
   "metadata": {
    "collapsed": true
   },
   "source": [
    "### 2"
   ]
  },
  {
   "cell_type": "code",
   "execution_count": null,
   "metadata": {
    "collapsed": true
   },
   "outputs": [],
   "source": [
    "Show unbiased "
   ]
  },
  {
   "cell_type": "markdown",
   "metadata": {},
   "source": [
    "### 3"
   ]
  },
  {
   "cell_type": "markdown",
   "metadata": {},
   "source": [
    "Variance of the estimator $\\hat m$ with $N$ measurements is:\n",
    "$$ Var(\\hat m) = \\frac{\\Delta}{N} $$\n",
    "\n",
    "So the typical error made is:\n",
    "$$ \\Delta \\hat m = \\sqrt{\\frac{\\Delta}{N}} $$"
   ]
  },
  {
   "cell_type": "markdown",
   "metadata": {},
   "source": [
    "### 4"
   ]
  },
  {
   "cell_type": "code",
   "execution_count": 15,
   "metadata": {},
   "outputs": [
    {
     "name": "stdout",
     "output_type": "stream",
     "text": [
      "\n",
      "N = 100\n",
      "pi:\n",
      "3.13\n",
      "var of est:\n",
      "0.02174\n",
      "mean of varss:\n",
      "2.70136\n",
      "est_var:\n",
      "2.72864646465\n",
      "mean_var:\n",
      "0.016540374832\n",
      "\n",
      "N = 1000\n",
      "pi:\n",
      "3.1364\n",
      "var of est:\n",
      "0.00254832\n",
      "mean of varss:\n",
      "2.70604672\n",
      "est_var:\n",
      "2.70875547548\n",
      "mean_var:\n",
      "0.00163666624013\n",
      "\n",
      "N = 10000\n",
      "pi:\n",
      "3.143292\n",
      "var of est:\n",
      "0.000252309936\n",
      "mean of varss:\n",
      "2.6926310928\n",
      "est_var:\n",
      "2.69290038284\n",
      "mean_var:\n",
      "0.000164812928588\n"
     ]
    }
   ],
   "source": [
    "N = [1e2, 1e3, 1e4]\n",
    "\n",
    "runs = 100\n",
    "\n",
    "for n in N:\n",
    "    n = int(n)\n",
    "    # these arrays contain the said values for each of the runs\n",
    "    pis = np.zeros(runs) \n",
    "    varss = np.zeros(runs)\n",
    "    est_vars = np.zeros(runs)\n",
    "    mean_vars = np.zeros(runs)\n",
    "    \n",
    "    for j in range(runs):\n",
    "        S = np.zeros(n)\n",
    "        xx = np.zeros(n)\n",
    "        yy = np.zeros(n)\n",
    "        \n",
    "        for i in range(n):        \n",
    "            x = np.random.uniform(-1,1)\n",
    "            y = np.random.uniform(-1,1)\n",
    "            xx[i] = x\n",
    "            yy[i] = y\n",
    "            \n",
    "            if (x**2 + y**2) < 1:\n",
    "                S[i] = 4\n",
    "                \n",
    "        pis[j] = np.mean(S)\n",
    "        varss[j] = np.var(S)        \n",
    "        est_vars[j] = 1 / (n - 1) * np.sum(S**2- (np.mean(S))**2 )\n",
    "        mean_vars[j] = np.var(pis) / n\n",
    "        \n",
    "    print()\n",
    "    print(\"N =\", n)\n",
    "    print(\"pi:\")\n",
    "    print(np.mean(pis))\n",
    "    print(\"var of est:\")\n",
    "    print(np.var(pis))\n",
    "    print(\"mean of varss:\")\n",
    "    print(np.mean(varss))\n",
    "    print(\"est_var:\")\n",
    "    print(np.mean(est_vars))\n",
    "    print(\"mean_var:\")\n",
    "    print(np.mean(mean_vars))\n",
    "    \n",
    "    def plot_drawn():\n",
    "        plt.figure()\n",
    "        ax = plt.gca()\n",
    "        circle = plt.Circle((0,0), 1, color=\"red\", fill=False, zorder=5, lw=3)\n",
    "        \n",
    "        plt.plot(xx,yy, '.')\n",
    "        plt.title(str(n) + \" Points drawn\")\n",
    "        plt.xlabel(\"x\")\n",
    "        plt.ylabel(\"y\")\n",
    "        \n",
    "        ax.add_artist(circle)\n",
    "        ax.add_patch(Rectangle((-1,-1), 2, 2, lw=2, color=\"black\", fill=False))\n",
    "        plt.show()"
   ]
  },
  {
   "cell_type": "code",
   "execution_count": null,
   "metadata": {
    "collapsed": true
   },
   "outputs": [],
   "source": []
  }
 ],
 "metadata": {
  "kernelspec": {
   "display_name": "Python 3",
   "language": "python",
   "name": "python3"
  },
  "language_info": {
   "codemirror_mode": {
    "name": "ipython",
    "version": 3
   },
   "file_extension": ".py",
   "mimetype": "text/x-python",
   "name": "python",
   "nbconvert_exporter": "python",
   "pygments_lexer": "ipython3",
   "version": "3.6.2"
  }
 },
 "nbformat": 4,
 "nbformat_minor": 2
}
