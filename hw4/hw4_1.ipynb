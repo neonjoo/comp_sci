{
 "cells": [
  {
   "cell_type": "markdown",
   "metadata": {},
   "source": [
    "# Homework 4"
   ]
  },
  {
   "cell_type": "markdown",
   "metadata": {},
   "source": [
    "## 1st exercise"
   ]
  },
  {
   "cell_type": "markdown",
   "metadata": {},
   "source": [
    "### Q1"
   ]
  },
  {
   "cell_type": "code",
   "execution_count": 1,
   "metadata": {},
   "outputs": [
    {
     "data": {
      "image/png": "[encoded data removed]",
      "text/plain": [
       "<matplotlib.figure.Figure at 0x7fbd147039e8>"
      ]
     },
     "metadata": {},
     "output_type": "display_data"
    }
   ],
   "source": [
    "import numpy as np\n",
    "import matplotlib.pyplot as plt\n",
    "\n",
    "L = 8\n",
    "n = 2\n",
    "sig = 0.75\n",
    "runs = 30000\n",
    "\n",
    "positions = np.zeros((runs,n))\n",
    "\n",
    "for i in range(runs):\n",
    "    pos1 = np.random.uniform(sig, L - sig)\n",
    "    pos2 = np.random.uniform(sig, L - sig)\n",
    "    \n",
    "    while abs(pos2 - pos1) < 2*sig:\n",
    "        pos1 = np.random.uniform(sig, L - sig)\n",
    "        pos2 = np.random.uniform(sig, L - sig)\n",
    "    positions[i] = [pos1, pos2]\n",
    "\n",
    "plt.figure()\n",
    "plt.hist([positions[:,0], positions[:,1]], label=[\"1\", \"2\"], bins=25, normed=True)\n",
    "plt.legend()\n",
    "plt.xlabel(\"Position\")\n",
    "plt.ylabel(\"Relative frequency\")\n",
    "plt.show()\n",
    "plt.close(\"all\")"
   ]
  },
  {
   "cell_type": "markdown",
   "metadata": {},
   "source": [
    "We can observe the _depletion force_, as the clothespins tend to be closer to the walls."
   ]
  },
  {
   "cell_type": "markdown",
   "metadata": {},
   "source": [
    "### Q2"
   ]
  },
  {
   "cell_type": "code",
   "execution_count": 4,
   "metadata": {},
   "outputs": [
    {
     "data": {
      "image/png": "[encoded data removed]",
      "text/plain": [
       "<matplotlib.figure.Figure at 0x7fbcee57aa20>"
      ]
     },
     "metadata": {},
     "output_type": "display_data"
    }
   ],
   "source": [
    "import numpy as np\n",
    "import matplotlib.pyplot as plt\n",
    "\n",
    "L = 8\n",
    "n = 2\n",
    "sig = 0.75\n",
    "runs = 30000\n",
    "\n",
    "positions = np.zeros((runs,n))\n",
    "\n",
    "for i in range(runs):\n",
    "    pos1 = np.random.uniform(sig, L - sig)\n",
    "    pos2 = np.random.uniform(sig, L - sig)\n",
    "    \n",
    "    while abs(pos2 - pos1) < 2*sig:\n",
    "        pos2 = np.random.uniform(sig, L - sig)\n",
    "    positions[i] = [pos1, pos2]\n",
    "\n",
    "plt.figure()\n",
    "plt.hist([positions[:,0], positions[:,1]], label=[\"1\", \"2\"], bins=25, normed=True)\n",
    "plt.legend()\n",
    "plt.xlabel(\"Position\")\n",
    "plt.ylabel(\"Relative frequency\")\n",
    "plt.show()\n",
    "plt.close(\"all\")"
   ]
  },
  {
   "cell_type": "markdown",
   "metadata": {},
   "source": [
    "Here the _depletion force_ acts only on the second particle, the first one seems uniformly distributed."
   ]
  },
  {
   "cell_type": "markdown",
   "metadata": {},
   "source": [
    "### Q3"
   ]
  },
  {
   "cell_type": "code",
   "execution_count": 36,
   "metadata": {
    "scrolled": false
   },
   "outputs": [
    {
     "data": {
      "image/png": "[encoded data removed]",
      "text/plain": [
       "<matplotlib.figure.Figure at 0x7fbcee624b70>"
      ]
     },
     "metadata": {},
     "output_type": "display_data"
    }
   ],
   "source": [
    "import numpy as np\n",
    "import matplotlib.pyplot as plt\n",
    "\n",
    "L = 10\n",
    "n = 5\n",
    "sig = 0.1\n",
    "runs = 10000\n",
    "\n",
    "all_positions = np.zeros((runs,n))\n",
    "\n",
    "success = 0\n",
    "while success < runs:\n",
    "    \n",
    "    good = False\n",
    "    while not good:\n",
    "        #print(444)\n",
    "        positions = np.random.uniform(sig, L - sig, n)\n",
    "        good = True\n",
    "        for i in range(n):\n",
    "            for j in range(i):\n",
    "                if abs(positions[i] - positions[j]) < 2 * sig:\n",
    "                    #print()\n",
    "                    #print(i,j)\n",
    "                    #print(positions)\n",
    "                    good = False\n",
    "                    break\n",
    "    all_positions[success] = positions\n",
    "    success += 1 \n",
    "\n",
    "plt.figure()\n",
    "plt.hist([all_positions[:,0], all_positions[:,-1]], bins=40, normed=True)\n",
    "plt.xlabel(\"Position\")\n",
    "plt.ylabel(\"Relative frequency\")\n",
    "plt.show()\n",
    "plt.close(\"all\")"
   ]
  },
  {
   "cell_type": "markdown",
   "metadata": {},
   "source": [
    "### Q4"
   ]
  },
  {
   "cell_type": "code",
   "execution_count": null,
   "metadata": {
    "collapsed": true
   },
   "outputs": [],
   "source": [
    "plt.figure()\n",
    "plt.plot(all_positions[:])\n",
    "plt.show()"
   ]
  }
 ],
 "metadata": {
  "kernelspec": {
   "display_name": "Python 3",
   "language": "python",
   "name": "python3"
  },
  "language_info": {
   "codemirror_mode": {
    "name": "ipython",
    "version": 3
   },
   "file_extension": ".py",
   "mimetype": "text/x-python",
   "name": "python",
   "nbconvert_exporter": "python",
   "pygments_lexer": "ipython3",
   "version": "3.6.2"
  }
 },
 "nbformat": 4,
 "nbformat_minor": 2
}
